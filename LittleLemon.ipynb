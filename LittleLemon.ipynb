{
 "cells": [
  {
   "cell_type": "code",
   "execution_count": 1,
   "id": "d4b1e033",
   "metadata": {},
   "outputs": [],
   "source": [
    "# !pip install mysql-connector-python"
   ]
  },
  {
   "cell_type": "code",
   "execution_count": 2,
   "id": "016522e0",
   "metadata": {},
   "outputs": [],
   "source": [
    "import mysql.connector as connector"
   ]
  },
  {
   "cell_type": "code",
   "execution_count": 3,
   "id": "8aad9e3e",
   "metadata": {},
   "outputs": [],
   "source": [
    "connection = connector.connect(user = \"capstone\", password = \"Capstone2023!\", db='littlelemondm')"
   ]
  },
  {
   "cell_type": "code",
   "execution_count": 4,
   "id": "03992d3f",
   "metadata": {},
   "outputs": [],
   "source": [
    "cursor = connection.cursor()\n",
    "\n",
    "show_tables_query = \"SHOW TABLES;\"\n",
    "cursor.execute(show_tables_query)\n",
    "res = cursor.fetchall()"
   ]
  },
  {
   "cell_type": "code",
   "execution_count": 5,
   "id": "0d1231bb",
   "metadata": {},
   "outputs": [
    {
     "name": "stdout",
     "output_type": "stream",
     "text": [
      "[('booking',), ('cuisine',), ('customer',), ('delivery',), ('deliverystatus',), ('location',), ('menu',), ('menuitemswith2ormoreorders',), ('order',), ('orderlimitcost',), ('ordersview',), ('staff',)]\n"
     ]
    }
   ],
   "source": [
    "print(res)"
   ]
  },
  {
   "cell_type": "code",
   "execution_count": 6,
   "id": "4ed10fcf",
   "metadata": {},
   "outputs": [
    {
     "name": "stdout",
     "output_type": "stream",
     "text": [
      "[]\n"
     ]
    }
   ],
   "source": [
    "query = \"\"\"\n",
    "SELECT C.customerName, C.phoneNo, C.email, O.TotalCost\n",
    "FROM littlelemondm.customer C\n",
    "JOIN littlelemondm.order O ON C.CustomerID = O.CustomerID\n",
    "WHERE O.TotalCost > 60\n",
    "\"\"\"\n",
    "\n",
    "cursor.execute(query)\n",
    "res = cursor.fetchall()\n",
    "\n",
    "print(res)"
   ]
  },
  {
   "cell_type": "code",
   "execution_count": null,
   "id": "48b43169",
   "metadata": {},
   "outputs": [],
   "source": []
  }
 ],
 "metadata": {
  "kernelspec": {
   "display_name": "Python 3 (ipykernel)",
   "language": "python",
   "name": "python3"
  },
  "language_info": {
   "codemirror_mode": {
    "name": "ipython",
    "version": 3
   },
   "file_extension": ".py",
   "mimetype": "text/x-python",
   "name": "python",
   "nbconvert_exporter": "python",
   "pygments_lexer": "ipython3",
   "version": "3.11.1"
  }
 },
 "nbformat": 4,
 "nbformat_minor": 5
}
